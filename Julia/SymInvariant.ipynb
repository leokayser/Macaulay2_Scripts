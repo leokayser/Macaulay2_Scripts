{
 "cells": [
  {
   "cell_type": "code",
   "execution_count": 1,
   "metadata": {},
   "outputs": [
    {
     "name": "stderr",
     "output_type": "stream",
     "text": [
      "\u001b[32m\u001b[1m   Resolving\u001b[22m\u001b[39m package versions...\n",
      "\u001b[32m\u001b[1m  No Changes\u001b[22m\u001b[39m to `~/.julia/environments/v1.10/Project.toml`\n",
      "\u001b[32m\u001b[1m  No Changes\u001b[22m\u001b[39m to `~/.julia/environments/v1.10/Manifest.toml`\n"
     ]
    }
   ],
   "source": [
    "using Pkg\n",
    "Pkg.add(\"Combinatorics\")"
   ]
  },
  {
   "cell_type": "code",
   "execution_count": 2,
   "metadata": {},
   "outputs": [
    {
     "data": {
      "text/plain": [
       "partitions_with_zero (generic function with 1 method)"
      ]
     },
     "metadata": {},
     "output_type": "display_data"
    }
   ],
   "source": [
    "using Combinatorics\n",
    "\n",
    "function partitions_with_zero(n, m) # enumerate λ⊢n with λ_m≥...λ_1≥0\n",
    "    return Iterators.map(λ -> λ .- 1, Combinatorics.partitions(n+m, m))\n",
    "end"
   ]
  },
  {
   "cell_type": "markdown",
   "metadata": {},
   "source": [
    "Given $(e_1,\\dots,e_n) \\vdash d$, a generic linear transformation of $x^e$ yields terms\n",
    "$$\n",
    "\\binom{e_1}{a_{11},\\dots,a_{1n}}\\dotsm \\binom{e_n}{a_{n1},\\dots,a_{nn}} \\cdot x_1^{a_{11}+\\dots+a_{n1}} \\dotsm x_n^{a_{1n}+\\dots+a_{nn}}\n",
    "$$\n",
    "where $a \\in \\mathbb{N}^{n\\times n}$ such that $a_{i1}+\\dots+a_{in} = e_i$ for all $i$.\n",
    "\n",
    "In characteristic $p>0$ only the monomials survive whose binomial coefficients are not divisible by $p$."
   ]
  },
  {
   "cell_type": "code",
   "execution_count": 3,
   "metadata": {},
   "outputs": [
    {
     "data": {
      "text/plain": [
       "pkummer (generic function with 1 method)"
      ]
     },
     "metadata": {},
     "output_type": "display_data"
    }
   ],
   "source": [
    "function Sp(n::Int64, p::Int64) :: Int64 # Sum of digits of n in base p\n",
    "    q = n\n",
    "    s = 0\n",
    "    while q != 0\n",
    "        s += q % p\n",
    "        q = q ÷ p\n",
    "    end\n",
    "    return s\n",
    "end\n",
    "\n",
    "function plegendre(n::Int64, p::Int64) :: Int64 # This is the legendre formula for (p-1)*v_p(n!)\n",
    "    return n - Sp(n,p)\n",
    "end\n",
    "\n",
    "function pkummer(n::Int64, λ::Vector{Int64}, p::Int64) :: Int64 # this is the Kummer formula for (p-1)v_p(binom(n,λ1..λm))\n",
    "    return plegendre(n) - sum(plegendre, m)\n",
    "end"
   ]
  },
  {
   "cell_type": "code",
   "execution_count": 21,
   "metadata": {},
   "outputs": [
    {
     "name": "stdout",
     "output_type": "stream",
     "text": [
      "[Vector{Int64}[], Vector{Int64}[], Vector{Int64}[]]"
     ]
    },
    {
     "data": {
      "text/plain": [
       "3-element Vector{Vector{Int64}}:\n",
       " []\n",
       " []\n",
       " []"
      ]
     },
     "metadata": {},
     "output_type": "display_data"
    }
   ],
   "source": [
    "(p,n,d) = (2,3,5)\n",
    "\n",
    "function transform(e::Vector{Int64}) :: Vector{Vector{Int64}}\n",
    "    valid_fs = [Vector{Vector{Int64}}(undef, 0) for _ in eachindex(e)]\n",
    "    print(valid_fs)\n",
    "    return valid_fs\n",
    "    for i in eachindex(e)\n",
    "        ei = e[i]\n",
    "        for a in partitions_with_zero(e,n)\n",
    "            println((ei, a))\n",
    "            if pkummer(d,a) == 0\n",
    "                push!(valid_fs[i], a)\n",
    "            end\n",
    "        end\n",
    "    end\n",
    "    return valid_fs\n",
    "end\n",
    "\n",
    "j = transform([3,2,0])"
   ]
  },
  {
   "cell_type": "code",
   "execution_count": 25,
   "metadata": {},
   "outputs": [
    {
     "data": {
      "text/plain": [
       "Vector{Int64}\u001b[90m (alias for \u001b[39m\u001b[90mArray{Int64, 1}\u001b[39m\u001b[90m)\u001b[39m"
      ]
     },
     "metadata": {},
     "output_type": "display_data"
    }
   ],
   "source": [
    "typeof(j[1])"
   ]
  }
 ],
 "metadata": {
  "kernelspec": {
   "display_name": "Julia 1.10.2",
   "language": "julia",
   "name": "julia-1.10"
  },
  "language_info": {
   "file_extension": ".jl",
   "mimetype": "application/julia",
   "name": "julia",
   "version": "1.10.2"
  }
 },
 "nbformat": 4,
 "nbformat_minor": 2
}
